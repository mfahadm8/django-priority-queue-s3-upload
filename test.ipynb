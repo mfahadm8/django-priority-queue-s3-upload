{
 "cells": [
  {
   "cell_type": "code",
   "execution_count": 1,
   "metadata": {},
   "outputs": [
    {
     "name": "stdout",
     "output_type": "stream",
     "text": [
      "Requirement already satisfied: requests in ./.venv/lib/python3.10/site-packages (2.32.3)\n",
      "Requirement already satisfied: urllib3<3,>=1.21.1 in ./.venv/lib/python3.10/site-packages (from requests) (1.26.18)\n",
      "Requirement already satisfied: charset-normalizer<4,>=2 in ./.venv/lib/python3.10/site-packages (from requests) (3.3.2)\n",
      "Requirement already satisfied: certifi>=2017.4.17 in ./.venv/lib/python3.10/site-packages (from requests) (2024.6.2)\n",
      "Requirement already satisfied: idna<4,>=2.5 in ./.venv/lib/python3.10/site-packages (from requests) (3.7)\n"
     ]
    }
   ],
   "source": [
    "!pip install requests"
   ]
  },
  {
   "cell_type": "code",
   "execution_count": 1,
   "metadata": {},
   "outputs": [],
   "source": [
    "import requests"
   ]
  },
  {
   "cell_type": "code",
   "execution_count": 6,
   "metadata": {},
   "outputs": [],
   "source": [
    "\n",
    "# Set the base URL for your API\n",
    "BASE_URL = 'http://127.0.0.1:8001/uploads/file_uploads'\n",
    "\n",
    "# Define the GUID and file information\n",
    "guid = 'test2.zip'  # Replace with an actual GUID from your database\n",
    "\n",
    "# Headers for the requests\n",
    "headers = {\n",
    "    'Content-Type': 'application/json',\n",
    "}\n"
   ]
  },
  {
   "cell_type": "code",
   "execution_count": 7,
   "metadata": {},
   "outputs": [],
   "source": [
    "\n",
    "# Function to update the priority\n",
    "def update_priority(guid, priority):    \n",
    "    url = f'{BASE_URL}/update_priority/'\n",
    "    data = {\n",
    "        'guid': guid,\n",
    "        'priority': priority,\n",
    "    }\n",
    "    response = requests.post(url, json=data, headers=headers)\n",
    "    print('Update Priority Response:', response.json())\n"
   ]
  },
  {
   "cell_type": "code",
   "execution_count": 8,
   "metadata": {},
   "outputs": [],
   "source": [
    "\n",
    "# Function to update the status\n",
    "def update_status(guid, status):\n",
    "    url = f'{BASE_URL}/update_status/'\n",
    "    data = {\n",
    "        'guid': guid,\n",
    "        'status': status,\n",
    "    }\n",
    "    response = requests.post(url, json=data, headers=headers)\n",
    "    print('Update Status Response:', response.json())\n"
   ]
  },
  {
   "cell_type": "code",
   "execution_count": null,
   "metadata": {},
   "outputs": [],
   "source": [
    "\n",
    "# Test updating the priority\n",
    "print(\"Testing Update Priority API\")\n",
    "update_priority(guid, 1)  # Set priority to 1\n"
   ]
  },
  {
   "cell_type": "code",
   "execution_count": 10,
   "metadata": {},
   "outputs": [
    {
     "name": "stdout",
     "output_type": "stream",
     "text": [
      "\n",
      "Testing Pause Upload API\n",
      "Update Status Response: {'status': 'status updated'}\n"
     ]
    }
   ],
   "source": [
    "\n",
    "# Test pausing the upload\n",
    "print(\"\\nTesting Pause Upload API\")\n",
    "update_status(guid, 'paused')\n"
   ]
  },
  {
   "cell_type": "code",
   "execution_count": null,
   "metadata": {},
   "outputs": [],
   "source": [
    "\n",
    "# Test resuming the upload\n",
    "print(\"\\nTesting Resume Upload API\")\n",
    "update_status(guid, 'resume')\n",
    "\n"
   ]
  },
  {
   "cell_type": "code",
   "execution_count": null,
   "metadata": {},
   "outputs": [],
   "source": [
    "\n",
    "# # Test canceling the upload\n",
    "# print(\"\\nTesting Cancel Upload API\")\n",
    "# update_status(guid, 'cancel')"
   ]
  },
  {
   "cell_type": "code",
   "execution_count": 9,
   "metadata": {},
   "outputs": [
    {
     "name": "stdout",
     "output_type": "stream",
     "text": [
      "{'file_path': '/tmp/test/test.zip', 'object_name': 'test.zip', 'guid': 'test.zip', 'instance_uid': 'some_instance_uid', 'priority': 1719185897, 'status': 'queued', 'created_at': 1719185897.9586868, 'updated_at': 1719185897.958692, 'timestamp': 1719185897.9586887, 'progress': 0}\n"
     ]
    }
   ],
   "source": [
    "import pickle\n",
    "\n",
    "serialized_data = b\"\\x80\\x04\\x95\\xdb\\x00\\x00\\x00\\x00\\x00\\x00\\x00}\\x94(\\x8c\\tfile_path\\x94\\x8c\\x12/tmp/test/test.zip\\x94\\x8c\\x0bobject_name\\x94\\x8c\\btest.zip\\x94\\x8c\\x04guid\\x94h\\x04\\x8c\\x0cinstance_uid\\x94\\x8c\\x11some_instance_uid\\x94\\x8c\\bpriority\\x94J\\xe9\\xb1xf\\x8c\\x06status\\x94\\x8c\\x06queued\\x94\\x8c\\ncreated_at\\x94GA\\xd9\\x9e,z}[ \\x8c\\nupdated_at\\x94GA\\xd9\\x9e,z}[6\\x8c\\ttimestamp\\x94GA\\xd9\\x9e,z}[(\\x8c\\bprogress\\x94K\\x00u.\"\n",
    "\n",
    "# Deserialize the data\n",
    "data = pickle.loads(serialized_data)\n",
    "\n",
    "# Print the resulting object\n",
    "print(data)\n"
   ]
  }
 ],
 "metadata": {
  "kernelspec": {
   "display_name": ".venv",
   "language": "python",
   "name": "python3"
  },
  "language_info": {
   "codemirror_mode": {
    "name": "ipython",
    "version": 3
   },
   "file_extension": ".py",
   "mimetype": "text/x-python",
   "name": "python",
   "nbconvert_exporter": "python",
   "pygments_lexer": "ipython3",
   "version": "3.10.12"
  }
 },
 "nbformat": 4,
 "nbformat_minor": 2
}
