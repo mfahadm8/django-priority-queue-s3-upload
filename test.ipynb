{
 "cells": [
  {
   "cell_type": "code",
   "execution_count": 1,
   "metadata": {},
   "outputs": [
    {
     "name": "stdout",
     "output_type": "stream",
     "text": [
      "Requirement already satisfied: requests in /home/mfahadm8/.pyenv/versions/3.9.18/lib/python3.9/site-packages (2.31.0)\n",
      "Requirement already satisfied: charset-normalizer<4,>=2 in /home/mfahadm8/.pyenv/versions/3.9.18/lib/python3.9/site-packages (from requests) (3.3.2)\n",
      "Requirement already satisfied: idna<4,>=2.5 in /home/mfahadm8/.pyenv/versions/3.9.18/lib/python3.9/site-packages (from requests) (3.6)\n",
      "Requirement already satisfied: urllib3<3,>=1.21.1 in /home/mfahadm8/.pyenv/versions/3.9.18/lib/python3.9/site-packages (from requests) (1.26.18)\n",
      "Requirement already satisfied: certifi>=2017.4.17 in /home/mfahadm8/.pyenv/versions/3.9.18/lib/python3.9/site-packages (from requests) (2024.2.2)\n",
      "\n",
      "\u001b[1m[\u001b[0m\u001b[34;49mnotice\u001b[0m\u001b[1;39;49m]\u001b[0m\u001b[39;49m A new release of pip is available: \u001b[0m\u001b[31;49m23.0.1\u001b[0m\u001b[39;49m -> \u001b[0m\u001b[32;49m24.1.1\u001b[0m\n",
      "\u001b[1m[\u001b[0m\u001b[34;49mnotice\u001b[0m\u001b[1;39;49m]\u001b[0m\u001b[39;49m To update, run: \u001b[0m\u001b[32;49mpip install --upgrade pip\u001b[0m\n"
     ]
    }
   ],
   "source": [
    "!pip install requests"
   ]
  },
  {
   "cell_type": "code",
   "execution_count": 2,
   "metadata": {},
   "outputs": [],
   "source": [
    "import requests"
   ]
  },
  {
   "cell_type": "code",
   "execution_count": 3,
   "metadata": {},
   "outputs": [],
   "source": [
    "\n",
    "# Set the base URL for your API\n",
    "BASE_URL = 'http://127.0.0.1:8001/uploads/file_uploads'\n",
    "\n",
    "# Define the GUID and file information\n",
    "guid = 'd1.zip'  # Replace with an actual GUID from your database\n",
    "\n",
    "# Headers for the requests\n",
    "headers = {\n",
    "    'Content-Type': 'application/json',\n",
    "}\n"
   ]
  },
  {
   "cell_type": "code",
   "execution_count": 27,
   "metadata": {},
   "outputs": [],
   "source": [
    "\n",
    "# Function to update the priority\n",
    "def update_priority(guid, priority):    \n",
    "    url = f'{BASE_URL}/update_priority/'\n",
    "    data = {\n",
    "        'guid': guid,\n",
    "        'priority': priority,\n",
    "    }\n",
    "    response = requests.post(url, json=data, headers=headers)\n",
    "    print('Update Priority Response:', response.json())\n"
   ]
  },
  {
   "cell_type": "code",
   "execution_count": 5,
   "metadata": {},
   "outputs": [],
   "source": [
    "\n",
    "# Function to update the status\n",
    "def update_status(guid, status):\n",
    "    url = f'{BASE_URL}/update_status/'\n",
    "    data = {\n",
    "        'guid': guid,\n",
    "        'status': status,\n",
    "    }\n",
    "    response = requests.post(url, json=data, headers=headers)\n",
    "    print('Update Status Response:', response.json())\n"
   ]
  },
  {
   "cell_type": "code",
   "execution_count": 6,
   "metadata": {},
   "outputs": [
    {
     "name": "stdout",
     "output_type": "stream",
     "text": [
      "Testing Update Priority API\n",
      "Update Priority Response: {'error': 'File not found'}\n"
     ]
    }
   ],
   "source": [
    "\n",
    "# Test updating the priority\n",
    "print(\"Testing Update Priority API\")\n",
    "update_priority(guid, 1)  # Set priority to 1\n"
   ]
  },
  {
   "cell_type": "code",
   "execution_count": 12,
   "metadata": {},
   "outputs": [
    {
     "name": "stdout",
     "output_type": "stream",
     "text": [
      "\n",
      "Testing Pause Upload API\n",
      "Update Status Response: {'status': 'status updated'}\n"
     ]
    }
   ],
   "source": [
    "\n",
    "# Test pausing the upload\n",
    "print(\"\\nTesting Pause Upload API\")\n",
    "update_status(guid, 'paused')\n"
   ]
  },
  {
   "cell_type": "code",
   "execution_count": null,
   "metadata": {},
   "outputs": [],
   "source": [
    "\n",
    "# Test resuming the upload\n",
    "print(\"\\nTesting Resume Upload API\")\n",
    "update_status(guid, 'resume')\n",
    "\n"
   ]
  },
  {
   "cell_type": "code",
   "execution_count": null,
   "metadata": {},
   "outputs": [],
   "source": [
    "\n",
    "# # Test canceling the upload\n",
    "# print(\"\\nTesting Cancel Upload API\")\n",
    "# update_status(guid, 'cancel')"
   ]
  },
  {
   "cell_type": "code",
   "execution_count": 10,
   "metadata": {},
   "outputs": [
    {
     "name": "stdout",
     "output_type": "stream",
     "text": [
      "{'file_path': '/tmp/test/test4.zip', 'object_name': 'test4.zip', 'guid': 'test4.zip', 'instance_uid': 'some_instance_uid', 'priority': 1719222909, 'status': 'uploading', 'created_at': 1719222909.0134425, 'updated_at': 1719222947.2621148, 'timestamp': 1719222909.0134473, 'progress': 69.15689739191515}\n"
     ]
    }
   ],
   "source": [
    "import pickle\n",
    "\n",
    "serialized_data = b\"\\x80\\x04\\x95\\xe7\\x00\\x00\\x00\\x00\\x00\\x00\\x00}\\x94(\\x8c\\tfile_path\\x94\\x8c\\x13/tmp/test/test4.zip\\x94\\x8c\\x0bobject_name\\x94\\x8c\\ttest4.zip\\x94\\x8c\\x04guid\\x94h\\x04\\x8c\\x0cinstance_uid\\x94\\x8c\\x11some_instance_uid\\x94\\x8c\\bpriority\\x94J}Byf\\x8c\\x06status\\x94\\x8c\\tuploading\\x94\\x8c\\ncreated_at\\x94GA\\xd9\\x9eP\\x9f@\\xdc>\\x8c\\nupdated_at\\x94GA\\xd9\\x9eP\\xa8\\xd0\\xc6}\\x8c\\ttimestamp\\x94GA\\xd9\\x9eP\\x9f@\\xdcR\\x8c\\bprogress\\x94G@QJ\\n\\x9b[\\xc6\\x9cu.\"\n",
    "\n",
    "# Deserialize the data\n",
    "data = pickle.loads(serialized_data)\n",
    "\n",
    "# Print the resulting object\n",
    "print(data)\n"
   ]
  },
  {
   "cell_type": "code",
   "execution_count": 6,
   "metadata": {},
   "outputs": [],
   "source": [
    "import time"
   ]
  },
  {
   "cell_type": "code",
   "execution_count": null,
   "metadata": {},
   "outputs": [],
   "source": []
  },
  {
   "cell_type": "code",
   "execution_count": 28,
   "metadata": {},
   "outputs": [
    {
     "name": "stdout",
     "output_type": "stream",
     "text": [
      "Test Case 1: Change priority to the highest\n",
      "Update Priority Response: {'error': 'File not found'}\n"
     ]
    }
   ],
   "source": [
    "\n",
    "guids = ['m1.zip', 'm2.zip','m3.zip','m4.zip','m5.zip','m6.zip','m7.zip','m8.zip','m9.zip']\n",
    "\n",
    "# Test Case 1: Change priority to the highest\n",
    "print(\"Test Case 1: Change priority to the highest\")\n",
    "update_priority(guids[6], 1)\n",
    "time.sleep(1)\n"
   ]
  },
  {
   "cell_type": "code",
   "execution_count": null,
   "metadata": {},
   "outputs": [],
   "source": []
  },
  {
   "cell_type": "code",
   "execution_count": 12,
   "metadata": {},
   "outputs": [
    {
     "name": "stdout",
     "output_type": "stream",
     "text": [
      "Test Case 2: Change priority of multiple files\n",
      "Update Priority Response: {'status': 'priority updated'}\n",
      "Update Priority Response: {'status': 'priority updated'}\n",
      "Update Priority Response: {'status': 'priority updated'}\n"
     ]
    }
   ],
   "source": [
    "\n",
    "# Test Case 2: Change priority of multiple files\n",
    "print(\"Test Case 2: Change priority of multiple files\")\n",
    "update_priority(guids[1], 1)\n",
    "update_priority(guids[2], 3)\n",
    "update_priority(guids[3], 4)\n",
    "time.sleep(1)\n"
   ]
  },
  {
   "cell_type": "code",
   "execution_count": null,
   "metadata": {},
   "outputs": [],
   "source": [
    "\n",
    "# Test Case 3: Change priority to a lower level\n",
    "print(\"Test Case 3: Change priority to a lower level\")\n",
    "update_priority(guids[0], 4)\n",
    "time.sleep(1)\n",
    "\n",
    "# Test Case 4: Change priority and resume\n",
    "print(\"Test Case 4: Change priority and resume\")\n",
    "update_status(guids[1], 'paused')\n",
    "update_priority(guids[1], 1)\n",
    "update_status(guids[1], 'resume')\n",
    "time.sleep(1)\n",
    "\n",
    "# Test Case 5: Ensure unique priorities\n",
    "print(\"Test Case 5: Ensure unique priorities\")\n",
    "update_priority(guids[0], 1)\n",
    "update_priority(guids[1], 2)\n",
    "update_priority(guids[2], 3)\n",
    "update_priority(guids[3], 4)\n",
    "time.sleep(1)\n"
   ]
  },
  {
   "cell_type": "code",
   "execution_count": null,
   "metadata": {},
   "outputs": [],
   "source": [
    "\n",
    "# Test Case 6: Swap priorities between files\n",
    "print(\"Test Case 6: Swap priorities between files\")\n",
    "update_priority(guids[0], 2)\n",
    "update_priority(guids[1], 1)\n",
    "time.sleep(1)\n"
   ]
  },
  {
   "cell_type": "code",
   "execution_count": null,
   "metadata": {},
   "outputs": [],
   "source": [
    "\n",
    "# Test Case 7: Handle maximum uploads\n",
    "print(\"Test Case 7: Handle maximum uploads\")\n",
    "update_priority(guids[0], 1)\n",
    "update_priority(guids[1], 1)\n",
    "update_priority(guids[2], 1)\n",
    "update_priority(guids[3], 1)  # Assuming this is more than MAX_UPLOADS\n",
    "time.sleep(1)\n"
   ]
  },
  {
   "cell_type": "code",
   "execution_count": null,
   "metadata": {},
   "outputs": [],
   "source": [
    "\n",
    "# Test Case 8: Change priority of a non-existent file\n",
    "print(\"Test Case 8: Change priority of a non-existent file\")\n",
    "update_priority('non_existent_guid', 1)\n",
    "time.sleep(1)\n"
   ]
  },
  {
   "cell_type": "code",
   "execution_count": null,
   "metadata": {},
   "outputs": [],
   "source": [
    "\n",
    "# Test Case 9: Change priority with invalid data\n",
    "print(\"Test Case 9: Change priority with invalid data\")\n",
    "update_priority(guids[0], 'invalid_priority')\n",
    "update_priority(guids[0], -1)  # Assuming negative values are invalid\n",
    "time.sleep(1)\n"
   ]
  },
  {
   "cell_type": "code",
   "execution_count": null,
   "metadata": {},
   "outputs": [],
   "source": [
    "\n",
    "# Test Case 10: Pause high priority task\n",
    "print(\"Test Case 10: Pause high priority task\")\n",
    "update_priority(guids[0], 1)\n",
    "update_status(guids[1], 'paused')\n",
    "time.sleep(1)"
   ]
  },
  {
   "cell_type": "code",
   "execution_count": 32,
   "metadata": {},
   "outputs": [],
   "source": [
    "import hashlib\n",
    "import boto3"
   ]
  },
  {
   "cell_type": "code",
   "execution_count": 30,
   "metadata": {},
   "outputs": [],
   "source": [
    "def calculate_sha256(file_path):\n",
    "    sha256 = hashlib.sha256()\n",
    "    with open(file_path, 'rb') as f:\n",
    "        for chunk in iter(lambda: f.read(4096), b''):\n",
    "            sha256.update(chunk)\n",
    "    return sha256.hexdigest()\n",
    "\n"
   ]
  },
  {
   "cell_type": "code",
   "execution_count": 37,
   "metadata": {},
   "outputs": [],
   "source": [
    "def calculate_s3_sha256( bucket, key):\n",
    "    s3_client = boto3.client('s3')\n",
    "    # Get the object and its metadata\n",
    "    s3_object = s3_client.head_object(Bucket=bucket, Key=key)\n",
    "    # Get the SHA256 checksum from the metadata\n",
    "    s3_checksum = s3_object['ETag']\n",
    "    return s3_checksum"
   ]
  },
  {
   "cell_type": "code",
   "execution_count": 41,
   "metadata": {},
   "outputs": [],
   "source": [
    "def calculate_s3_sha256( bucket, key):\n",
    "    s3_client = boto3.client('s3')\n",
    "    s3_object = s3_client.get_object(Bucket=bucket, Key=key)\n",
    "    s3_sha256 = hashlib.sha256(s3_object['Body'].read()).hexdigest()\n",
    "    return s3_sha256\n"
   ]
  },
  {
   "cell_type": "code",
   "execution_count": 43,
   "metadata": {},
   "outputs": [],
   "source": [
    "def calculate_s3_sha256( bucket, key):\n",
    "    s3_client = boto3.client('s3')\n",
    "    response=s3_client.get_object_attributes(\n",
    "            Bucket=bucket,\n",
    "            Key=key,\n",
    "            ObjectAttributes=['Checksum']\n",
    "        )\n",
    "    s3_checksum = response['Checksum']['ChecksumSHA256']\n",
    "    return s3_checksum"
   ]
  },
  {
   "cell_type": "code",
   "execution_count": 45,
   "metadata": {},
   "outputs": [
    {
     "ename": "KeyError",
     "evalue": "'Checksum'",
     "output_type": "error",
     "traceback": [
      "\u001b[0;31m---------------------------------------------------------------------------\u001b[0m",
      "\u001b[0;31mKeyError\u001b[0m                                  Traceback (most recent call last)",
      "Cell \u001b[0;32mIn[45], line 1\u001b[0m\n\u001b[0;32m----> 1\u001b[0m \u001b[43mcalculate_s3_sha256\u001b[49m\u001b[43m(\u001b[49m\u001b[38;5;124;43m\"\u001b[39;49m\u001b[38;5;124;43mcdk-hnb659fds-assets-182426352951-ap-southeast-1\u001b[39;49m\u001b[38;5;124;43m\"\u001b[39;49m\u001b[43m,\u001b[49m\u001b[38;5;124;43m\"\u001b[39;49m\u001b[38;5;124;43mm8.zip\u001b[39;49m\u001b[38;5;124;43m\"\u001b[39;49m\u001b[43m)\u001b[49m\n",
      "Cell \u001b[0;32mIn[43], line 8\u001b[0m, in \u001b[0;36mcalculate_s3_sha256\u001b[0;34m(bucket, key)\u001b[0m\n\u001b[1;32m      2\u001b[0m s3_client \u001b[38;5;241m=\u001b[39m boto3\u001b[38;5;241m.\u001b[39mclient(\u001b[38;5;124m'\u001b[39m\u001b[38;5;124ms3\u001b[39m\u001b[38;5;124m'\u001b[39m)\n\u001b[1;32m      3\u001b[0m response\u001b[38;5;241m=\u001b[39ms3_client\u001b[38;5;241m.\u001b[39mget_object_attributes(\n\u001b[1;32m      4\u001b[0m         Bucket\u001b[38;5;241m=\u001b[39mbucket,\n\u001b[1;32m      5\u001b[0m         Key\u001b[38;5;241m=\u001b[39mkey,\n\u001b[1;32m      6\u001b[0m         ObjectAttributes\u001b[38;5;241m=\u001b[39m[\u001b[38;5;124m'\u001b[39m\u001b[38;5;124mChecksum\u001b[39m\u001b[38;5;124m'\u001b[39m]\n\u001b[1;32m      7\u001b[0m     )\n\u001b[0;32m----> 8\u001b[0m s3_checksum \u001b[38;5;241m=\u001b[39m \u001b[43mresponse\u001b[49m\u001b[43m[\u001b[49m\u001b[38;5;124;43m'\u001b[39;49m\u001b[38;5;124;43mChecksum\u001b[39;49m\u001b[38;5;124;43m'\u001b[39;49m\u001b[43m]\u001b[49m[\u001b[38;5;124m'\u001b[39m\u001b[38;5;124mChecksumSHA256\u001b[39m\u001b[38;5;124m'\u001b[39m]\n\u001b[1;32m      9\u001b[0m \u001b[38;5;28;01mreturn\u001b[39;00m s3_checksum\n",
      "\u001b[0;31mKeyError\u001b[0m: 'Checksum'"
     ]
    }
   ],
   "source": [
    "calculate_s3_sha256(\"cdk-hnb659fds-assets-182426352951-ap-southeast-1\",\"m8.zip\")"
   ]
  },
  {
   "cell_type": "code",
   "execution_count": 39,
   "metadata": {},
   "outputs": [
    {
     "data": {
      "text/plain": [
       "'12dcbded7f1babd8635648cd8d46894bd474077b2f175fdeaa1ee402009dac05'"
      ]
     },
     "execution_count": 39,
     "metadata": {},
     "output_type": "execute_result"
    }
   ],
   "source": [
    "calculate_sha256(\"/tmp/test/m8.zip\")"
   ]
  }
 ],
 "metadata": {
  "kernelspec": {
   "display_name": ".venv",
   "language": "python",
   "name": "python3"
  },
  "language_info": {
   "codemirror_mode": {
    "name": "ipython",
    "version": 3
   },
   "file_extension": ".py",
   "mimetype": "text/x-python",
   "name": "python",
   "nbconvert_exporter": "python",
   "pygments_lexer": "ipython3",
   "version": "3.9.18"
  }
 },
 "nbformat": 4,
 "nbformat_minor": 2
}
