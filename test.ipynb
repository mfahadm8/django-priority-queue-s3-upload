{
 "cells": [
  {
   "cell_type": "code",
   "execution_count": 1,
   "metadata": {},
   "outputs": [
    {
     "name": "stdout",
     "output_type": "stream",
     "text": [
      "Requirement already satisfied: requests in ./.venv/lib/python3.10/site-packages (2.32.3)\n",
      "Requirement already satisfied: charset-normalizer<4,>=2 in ./.venv/lib/python3.10/site-packages (from requests) (3.3.2)\n",
      "Requirement already satisfied: urllib3<3,>=1.21.1 in ./.venv/lib/python3.10/site-packages (from requests) (1.26.18)\n",
      "Requirement already satisfied: idna<4,>=2.5 in ./.venv/lib/python3.10/site-packages (from requests) (3.7)\n",
      "Requirement already satisfied: certifi>=2017.4.17 in ./.venv/lib/python3.10/site-packages (from requests) (2024.6.2)\n"
     ]
    }
   ],
   "source": [
    "!pip install requests"
   ]
  },
  {
   "cell_type": "code",
   "execution_count": 2,
   "metadata": {},
   "outputs": [],
   "source": [
    "import requests"
   ]
  },
  {
   "cell_type": "code",
   "execution_count": 3,
   "metadata": {},
   "outputs": [],
   "source": [
    "\n",
    "# Set the base URL for your API\n",
    "BASE_URL = 'http://127.0.0.1:8001/uploads/file_uploads'\n",
    "\n",
    "# Define the GUID and file information\n",
    "guid = 'd1.zip'  # Replace with an actual GUID from your database\n",
    "\n",
    "# Headers for the requests\n",
    "headers = {\n",
    "    'Content-Type': 'application/json',\n",
    "}\n"
   ]
  },
  {
   "cell_type": "code",
   "execution_count": 4,
   "metadata": {},
   "outputs": [],
   "source": [
    "\n",
    "# Function to update the priority\n",
    "def update_priority(guid, priority):    \n",
    "    url = f'{BASE_URL}/update_priority/'\n",
    "    data = {\n",
    "        'guid': guid,\n",
    "        'priority': priority,\n",
    "    }\n",
    "    response = requests.post(url, json=data, headers=headers)\n",
    "    print('Update Priority Response:', response.json())\n"
   ]
  },
  {
   "cell_type": "code",
   "execution_count": 5,
   "metadata": {},
   "outputs": [],
   "source": [
    "\n",
    "# Function to update the status\n",
    "def update_status(guid, status):\n",
    "    url = f'{BASE_URL}/update_status/'\n",
    "    data = {\n",
    "        'guid': guid,\n",
    "        'status': status,\n",
    "    }\n",
    "    response = requests.post(url, json=data, headers=headers)\n",
    "    print('Update Status Response:', response.json())\n"
   ]
  },
  {
   "cell_type": "code",
   "execution_count": 6,
   "metadata": {},
   "outputs": [
    {
     "name": "stdout",
     "output_type": "stream",
     "text": [
      "Testing Update Priority API\n",
      "Update Priority Response: {'error': 'File not found'}\n"
     ]
    }
   ],
   "source": [
    "\n",
    "# Test updating the priority\n",
    "print(\"Testing Update Priority API\")\n",
    "update_priority(guid, 1)  # Set priority to 1\n"
   ]
  },
  {
   "cell_type": "code",
   "execution_count": 12,
   "metadata": {},
   "outputs": [
    {
     "name": "stdout",
     "output_type": "stream",
     "text": [
      "\n",
      "Testing Pause Upload API\n",
      "Update Status Response: {'status': 'status updated'}\n"
     ]
    }
   ],
   "source": [
    "\n",
    "# Test pausing the upload\n",
    "print(\"\\nTesting Pause Upload API\")\n",
    "update_status(guid, 'paused')\n"
   ]
  },
  {
   "cell_type": "code",
   "execution_count": null,
   "metadata": {},
   "outputs": [],
   "source": [
    "\n",
    "# Test resuming the upload\n",
    "print(\"\\nTesting Resume Upload API\")\n",
    "update_status(guid, 'resume')\n",
    "\n"
   ]
  },
  {
   "cell_type": "code",
   "execution_count": null,
   "metadata": {},
   "outputs": [],
   "source": [
    "\n",
    "# # Test canceling the upload\n",
    "# print(\"\\nTesting Cancel Upload API\")\n",
    "# update_status(guid, 'cancel')"
   ]
  },
  {
   "cell_type": "code",
   "execution_count": 10,
   "metadata": {},
   "outputs": [
    {
     "name": "stdout",
     "output_type": "stream",
     "text": [
      "{'file_path': '/tmp/test/test4.zip', 'object_name': 'test4.zip', 'guid': 'test4.zip', 'instance_uid': 'some_instance_uid', 'priority': 1719222909, 'status': 'uploading', 'created_at': 1719222909.0134425, 'updated_at': 1719222947.2621148, 'timestamp': 1719222909.0134473, 'progress': 69.15689739191515}\n"
     ]
    }
   ],
   "source": [
    "import pickle\n",
    "\n",
    "serialized_data = b\"\\x80\\x04\\x95\\xe7\\x00\\x00\\x00\\x00\\x00\\x00\\x00}\\x94(\\x8c\\tfile_path\\x94\\x8c\\x13/tmp/test/test4.zip\\x94\\x8c\\x0bobject_name\\x94\\x8c\\ttest4.zip\\x94\\x8c\\x04guid\\x94h\\x04\\x8c\\x0cinstance_uid\\x94\\x8c\\x11some_instance_uid\\x94\\x8c\\bpriority\\x94J}Byf\\x8c\\x06status\\x94\\x8c\\tuploading\\x94\\x8c\\ncreated_at\\x94GA\\xd9\\x9eP\\x9f@\\xdc>\\x8c\\nupdated_at\\x94GA\\xd9\\x9eP\\xa8\\xd0\\xc6}\\x8c\\ttimestamp\\x94GA\\xd9\\x9eP\\x9f@\\xdcR\\x8c\\bprogress\\x94G@QJ\\n\\x9b[\\xc6\\x9cu.\"\n",
    "\n",
    "# Deserialize the data\n",
    "data = pickle.loads(serialized_data)\n",
    "\n",
    "# Print the resulting object\n",
    "print(data)\n"
   ]
  },
  {
   "cell_type": "code",
   "execution_count": 7,
   "metadata": {},
   "outputs": [],
   "source": [
    "import time"
   ]
  },
  {
   "cell_type": "code",
   "execution_count": null,
   "metadata": {},
   "outputs": [],
   "source": [
    "\n",
    "guids = ['guid1', 'guid2', 'guid3', 'guid4']\n",
    "\n",
    "# Test Case 1: Change priority to the highest\n",
    "print(\"Test Case 1: Change priority to the highest\")\n",
    "update_priority(guids[0], 1)\n",
    "time.sleep(1)\n"
   ]
  },
  {
   "cell_type": "code",
   "execution_count": null,
   "metadata": {},
   "outputs": [],
   "source": []
  },
  {
   "cell_type": "code",
   "execution_count": null,
   "metadata": {},
   "outputs": [],
   "source": [
    "\n",
    "# Test Case 2: Change priority of multiple files\n",
    "print(\"Test Case 2: Change priority of multiple files\")\n",
    "update_priority(guids[1], 2)\n",
    "update_priority(guids[2], 3)\n",
    "update_priority(guids[3], 4)\n",
    "time.sleep(1)\n"
   ]
  },
  {
   "cell_type": "code",
   "execution_count": null,
   "metadata": {},
   "outputs": [],
   "source": [
    "\n",
    "# Test Case 3: Change priority to a lower level\n",
    "print(\"Test Case 3: Change priority to a lower level\")\n",
    "update_priority(guids[0], 4)\n",
    "time.sleep(1)\n",
    "\n",
    "# Test Case 4: Change priority and resume\n",
    "print(\"Test Case 4: Change priority and resume\")\n",
    "update_status(guids[1], 'paused')\n",
    "update_priority(guids[1], 1)\n",
    "update_status(guids[1], 'resume')\n",
    "time.sleep(1)\n",
    "\n",
    "# Test Case 5: Ensure unique priorities\n",
    "print(\"Test Case 5: Ensure unique priorities\")\n",
    "update_priority(guids[0], 1)\n",
    "update_priority(guids[1], 2)\n",
    "update_priority(guids[2], 3)\n",
    "update_priority(guids[3], 4)\n",
    "time.sleep(1)\n"
   ]
  },
  {
   "cell_type": "code",
   "execution_count": null,
   "metadata": {},
   "outputs": [],
   "source": [
    "\n",
    "# Test Case 6: Swap priorities between files\n",
    "print(\"Test Case 6: Swap priorities between files\")\n",
    "update_priority(guids[0], 2)\n",
    "update_priority(guids[1], 1)\n",
    "time.sleep(1)\n"
   ]
  },
  {
   "cell_type": "code",
   "execution_count": null,
   "metadata": {},
   "outputs": [],
   "source": [
    "\n",
    "# Test Case 7: Handle maximum uploads\n",
    "print(\"Test Case 7: Handle maximum uploads\")\n",
    "update_priority(guids[0], 1)\n",
    "update_priority(guids[1], 1)\n",
    "update_priority(guids[2], 1)\n",
    "update_priority(guids[3], 1)  # Assuming this is more than MAX_UPLOADS\n",
    "time.sleep(1)\n"
   ]
  },
  {
   "cell_type": "code",
   "execution_count": null,
   "metadata": {},
   "outputs": [],
   "source": [
    "\n",
    "# Test Case 8: Change priority of a non-existent file\n",
    "print(\"Test Case 8: Change priority of a non-existent file\")\n",
    "update_priority('non_existent_guid', 1)\n",
    "time.sleep(1)\n"
   ]
  },
  {
   "cell_type": "code",
   "execution_count": null,
   "metadata": {},
   "outputs": [],
   "source": [
    "\n",
    "# Test Case 9: Change priority with invalid data\n",
    "print(\"Test Case 9: Change priority with invalid data\")\n",
    "update_priority(guids[0], 'invalid_priority')\n",
    "update_priority(guids[0], -1)  # Assuming negative values are invalid\n",
    "time.sleep(1)\n"
   ]
  },
  {
   "cell_type": "code",
   "execution_count": null,
   "metadata": {},
   "outputs": [],
   "source": [
    "\n",
    "# Test Case 10: Pause high priority task\n",
    "print(\"Test Case 10: Pause high priority task\")\n",
    "update_priority(guids[0], 1)\n",
    "update_status(guids[1], 'paused')\n",
    "time.sleep(1)"
   ]
  }
 ],
 "metadata": {
  "kernelspec": {
   "display_name": ".venv",
   "language": "python",
   "name": "python3"
  },
  "language_info": {
   "codemirror_mode": {
    "name": "ipython",
    "version": 3
   },
   "file_extension": ".py",
   "mimetype": "text/x-python",
   "name": "python",
   "nbconvert_exporter": "python",
   "pygments_lexer": "ipython3",
   "version": "3.10.12"
  }
 },
 "nbformat": 4,
 "nbformat_minor": 2
}
